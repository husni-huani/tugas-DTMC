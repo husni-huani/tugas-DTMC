{
 "cells": [
  {
   "cell_type": "code",
   "execution_count": 1,
   "metadata": {},
   "outputs": [],
   "source": [
    "import pandas as pd\n",
    "import numpy as np"
   ]
  },
  {
   "cell_type": "code",
   "execution_count": 2,
   "metadata": {},
   "outputs": [],
   "source": [
    "df = pd.read_csv(\"air_quality_index.csv\")"
   ]
  },
  {
   "cell_type": "code",
   "execution_count": 3,
   "metadata": {},
   "outputs": [
    {
     "data": {
      "text/html": [
       "<div>\n",
       "<style scoped>\n",
       "    .dataframe tbody tr th:only-of-type {\n",
       "        vertical-align: middle;\n",
       "    }\n",
       "\n",
       "    .dataframe tbody tr th {\n",
       "        vertical-align: top;\n",
       "    }\n",
       "\n",
       "    .dataframe thead th {\n",
       "        text-align: right;\n",
       "    }\n",
       "</style>\n",
       "<table border=\"1\" class=\"dataframe\">\n",
       "  <thead>\n",
       "    <tr style=\"text-align: right;\">\n",
       "      <th></th>\n",
       "      <th>DATE</th>\n",
       "      <th>COUNTRY</th>\n",
       "      <th>CITY</th>\n",
       "      <th>VALUE</th>\n",
       "    </tr>\n",
       "  </thead>\n",
       "  <tbody>\n",
       "    <tr>\n",
       "      <th>0</th>\n",
       "      <td>2019-01-01</td>\n",
       "      <td>US</td>\n",
       "      <td>San Antonio</td>\n",
       "      <td>42.0</td>\n",
       "    </tr>\n",
       "    <tr>\n",
       "      <th>1</th>\n",
       "      <td>2019-01-01</td>\n",
       "      <td>US</td>\n",
       "      <td>Saint Paul</td>\n",
       "      <td>21.0</td>\n",
       "    </tr>\n",
       "    <tr>\n",
       "      <th>2</th>\n",
       "      <td>2019-01-01</td>\n",
       "      <td>US</td>\n",
       "      <td>Denver</td>\n",
       "      <td>42.0</td>\n",
       "    </tr>\n",
       "    <tr>\n",
       "      <th>3</th>\n",
       "      <td>2019-01-01</td>\n",
       "      <td>US</td>\n",
       "      <td>San Francisco</td>\n",
       "      <td>13.0</td>\n",
       "    </tr>\n",
       "    <tr>\n",
       "      <th>4</th>\n",
       "      <td>2019-01-01</td>\n",
       "      <td>US</td>\n",
       "      <td>Madison</td>\n",
       "      <td>14.0</td>\n",
       "    </tr>\n",
       "  </tbody>\n",
       "</table>\n",
       "</div>"
      ],
      "text/plain": [
       "         DATE COUNTRY           CITY  VALUE\n",
       "0  2019-01-01      US    San Antonio   42.0\n",
       "1  2019-01-01      US     Saint Paul   21.0\n",
       "2  2019-01-01      US         Denver   42.0\n",
       "3  2019-01-01      US  San Francisco   13.0\n",
       "4  2019-01-01      US        Madison   14.0"
      ]
     },
     "execution_count": 3,
     "metadata": {},
     "output_type": "execute_result"
    }
   ],
   "source": [
    "df.head()"
   ]
  },
  {
   "cell_type": "code",
   "execution_count": 4,
   "metadata": {},
   "outputs": [],
   "source": [
    "cityList = [\"Los Angeles\", \"San Antonio\", \"Seattle\", \"Portland\"]"
   ]
  },
  {
   "cell_type": "code",
   "execution_count": 5,
   "metadata": {},
   "outputs": [
    {
     "name": "stderr",
     "output_type": "stream",
     "text": [
      "D:\\Application\\Anaconda\\lib\\site-packages\\ipykernel_launcher.py:4: SettingWithCopyWarning: \n",
      "A value is trying to be set on a copy of a slice from a DataFrame.\n",
      "Try using .loc[row_indexer,col_indexer] = value instead\n",
      "\n",
      "See the caveats in the documentation: http://pandas.pydata.org/pandas-docs/stable/indexing.html#indexing-view-versus-copy\n",
      "  after removing the cwd from sys.path.\n"
     ]
    }
   ],
   "source": [
    "dfDict = {}\n",
    "for city in cityList:\n",
    "    dfCity = df.loc[df['CITY']==city]\n",
    "    dfCity['QUALITY'] = \"\"\n",
    "    dfDict[city] = dfCity"
   ]
  },
  {
   "cell_type": "code",
   "execution_count": 6,
   "metadata": {},
   "outputs": [],
   "source": [
    "def airQuality(val):\n",
    "    quality = ''\n",
    "    if val < 12.5:\n",
    "        quality = \"good\"\n",
    "    elif 12.5<= val < 25:\n",
    "        quality = \"fair\"\n",
    "    elif 25<=val< 50:\n",
    "        quality = \"poor\"\n",
    "    elif 50<=val < 150:\n",
    "        quality = \"very_poor\"\n",
    "    else:\n",
    "        quality = \"extremely_poor\"\n",
    "    return quality\n",
    "\n",
    "def qualityToIndex(quality):\n",
    "    index = 0\n",
    "    if quality == \"good\":\n",
    "        index = 1\n",
    "    elif quality == \"fair\":\n",
    "        index = 2\n",
    "    elif quality == \"poor\":\n",
    "        index = 3\n",
    "    elif quality == \"very_poor\":\n",
    "        index = 4\n",
    "    else:\n",
    "        index = 5\n",
    "    return index"
   ]
  },
  {
   "cell_type": "code",
   "execution_count": 7,
   "metadata": {},
   "outputs": [],
   "source": [
    "for city in dfDict:\n",
    "    dfCity = dfDict[city]\n",
    "    dfCity.reset_index(drop=True, inplace=True)\n",
    "    for index, row in dfCity.iterrows():\n",
    "        quality = airQuality(row['VALUE'])\n",
    "        dfCity.at[index, 'QUALITY'] = quality"
   ]
  },
  {
   "cell_type": "code",
   "execution_count": 9,
   "metadata": {},
   "outputs": [
    {
     "data": {
      "text/html": [
       "<div>\n",
       "<style scoped>\n",
       "    .dataframe tbody tr th:only-of-type {\n",
       "        vertical-align: middle;\n",
       "    }\n",
       "\n",
       "    .dataframe tbody tr th {\n",
       "        vertical-align: top;\n",
       "    }\n",
       "\n",
       "    .dataframe thead th {\n",
       "        text-align: right;\n",
       "    }\n",
       "</style>\n",
       "<table border=\"1\" class=\"dataframe\">\n",
       "  <thead>\n",
       "    <tr style=\"text-align: right;\">\n",
       "      <th></th>\n",
       "      <th>DATE</th>\n",
       "      <th>COUNTRY</th>\n",
       "      <th>CITY</th>\n",
       "      <th>VALUE</th>\n",
       "      <th>QUALITY</th>\n",
       "    </tr>\n",
       "  </thead>\n",
       "  <tbody>\n",
       "    <tr>\n",
       "      <th>0</th>\n",
       "      <td>2019-01-01</td>\n",
       "      <td>US</td>\n",
       "      <td>Seattle</td>\n",
       "      <td>63.0</td>\n",
       "      <td>very_poor</td>\n",
       "    </tr>\n",
       "    <tr>\n",
       "      <th>1</th>\n",
       "      <td>2019-01-02</td>\n",
       "      <td>US</td>\n",
       "      <td>Seattle</td>\n",
       "      <td>37.0</td>\n",
       "      <td>poor</td>\n",
       "    </tr>\n",
       "    <tr>\n",
       "      <th>2</th>\n",
       "      <td>2019-01-03</td>\n",
       "      <td>US</td>\n",
       "      <td>Seattle</td>\n",
       "      <td>30.0</td>\n",
       "      <td>poor</td>\n",
       "    </tr>\n",
       "    <tr>\n",
       "      <th>3</th>\n",
       "      <td>2019-01-04</td>\n",
       "      <td>US</td>\n",
       "      <td>Seattle</td>\n",
       "      <td>33.0</td>\n",
       "      <td>poor</td>\n",
       "    </tr>\n",
       "    <tr>\n",
       "      <th>4</th>\n",
       "      <td>2019-01-05</td>\n",
       "      <td>US</td>\n",
       "      <td>Seattle</td>\n",
       "      <td>24.0</td>\n",
       "      <td>fair</td>\n",
       "    </tr>\n",
       "  </tbody>\n",
       "</table>\n",
       "</div>"
      ],
      "text/plain": [
       "         DATE COUNTRY     CITY  VALUE    QUALITY\n",
       "0  2019-01-01      US  Seattle   63.0  very_poor\n",
       "1  2019-01-02      US  Seattle   37.0       poor\n",
       "2  2019-01-03      US  Seattle   30.0       poor\n",
       "3  2019-01-04      US  Seattle   33.0       poor\n",
       "4  2019-01-05      US  Seattle   24.0       fair"
      ]
     },
     "execution_count": 9,
     "metadata": {},
     "output_type": "execute_result"
    }
   ],
   "source": [
    "dfDict[\"Seattle\"].head()"
   ]
  },
  {
   "cell_type": "code",
   "execution_count": 10,
   "metadata": {},
   "outputs": [],
   "source": [
    "dictChangeAll = {}\n",
    "\n",
    "for city in dfDict:\n",
    "    dictChange = {}\n",
    "    dfCity = dfDict[city]\n",
    "\n",
    "    for index, row in dfCity.iterrows():\n",
    "        if index == 0:\n",
    "            continue\n",
    "        prevState = dfCity.at[index-1, 'QUALITY']\n",
    "        currentState = dfCity.at[index, 'QUALITY']\n",
    "        key = prevState + ':' + currentState\n",
    "\n",
    "        dictChange[key] = dictChange.get(key, 0) + 1\n",
    "    \n",
    "    dictChangeAll[city] = dictChange"
   ]
  },
  {
   "cell_type": "code",
   "execution_count": 11,
   "metadata": {},
   "outputs": [
    {
     "data": {
      "text/plain": [
       "{'very_poor:poor': 29,\n",
       " 'poor:poor': 155,\n",
       " 'poor:fair': 123,\n",
       " 'fair:poor': 122,\n",
       " 'fair:fair': 329,\n",
       " 'fair:very_poor': 18,\n",
       " 'poor:very_poor': 24,\n",
       " 'very_poor:very_poor': 17,\n",
       " 'very_poor:fair': 15,\n",
       " 'fair:good': 17,\n",
       " 'good:fair': 18,\n",
       " 'poor:good': 5,\n",
       " 'good:poor': 4,\n",
       " 'good:good': 7,\n",
       " 'fair:extremely_poor': 1,\n",
       " 'extremely_poor:extremely_poor': 4,\n",
       " 'extremely_poor:very_poor': 1,\n",
       " 'poor:extremely_poor': 2,\n",
       " 'extremely_poor:fair': 2}"
      ]
     },
     "execution_count": 11,
     "metadata": {},
     "output_type": "execute_result"
    }
   ],
   "source": [
    "dictChangeAll[\"Seattle\"]"
   ]
  },
  {
   "cell_type": "code",
   "execution_count": 12,
   "metadata": {},
   "outputs": [],
   "source": [
    "matrixDict = {}\n",
    "\n",
    "for city in dictChangeAll:\n",
    "    dictChange = dictChangeAll[city]\n",
    "    matrix= [ [0 for i in range(5)] for i in range(5) ]\n",
    "    \n",
    "    for key in dictChange:\n",
    "        value = dictChange[key]\n",
    "        prevState, toState = key.split(':')\n",
    "        prevIndex = qualityToIndex(prevState)\n",
    "        toIndex = qualityToIndex(toState)\n",
    "        matrix[prevIndex-1][toIndex-1] = value\n",
    "    \n",
    "    for i in range(len(matrix)):\n",
    "        totalRow = sum(matrix[i])\n",
    "        if totalRow == 0:\n",
    "            continue\n",
    "        for j in range(len(matrix[i])):\n",
    "            matrix[i][j] /= totalRow\n",
    "    \n",
    "    npMatrix = np.array(matrix)\n",
    "    \n",
    "    matrixDict[city] = npMatrix"
   ]
  },
  {
   "cell_type": "code",
   "execution_count": 16,
   "metadata": {},
   "outputs": [
    {
     "data": {
      "text/plain": [
       "array([[0.33333333, 0.54263566, 0.08527132, 0.03875969, 0.        ],\n",
       "       [0.13016529, 0.65909091, 0.17975207, 0.0268595 , 0.00413223],\n",
       "       [0.09009009, 0.36936937, 0.45945946, 0.07207207, 0.00900901],\n",
       "       [0.04      , 0.24      , 0.44      , 0.28      , 0.        ],\n",
       "       [0.125     , 0.25      , 0.        , 0.125     , 0.5       ]])"
      ]
     },
     "execution_count": 16,
     "metadata": {},
     "output_type": "execute_result"
    }
   ],
   "source": [
    "matrixDict[\"Portland\"]"
   ]
  },
  {
   "cell_type": "code",
   "execution_count": 18,
   "metadata": {},
   "outputs": [
    {
     "name": "stdout",
     "output_type": "stream",
     "text": [
      "Los Angeles \n",
      " [[0.01639344]\n",
      " [0.26229508]\n",
      " [0.50819672]\n",
      " [0.21311475]\n",
      " [0.        ]] \n",
      "\n",
      "\n",
      "San Antonio \n",
      " [[0.03017241]\n",
      " [0.40948276]\n",
      " [0.49568966]\n",
      " [0.06465517]\n",
      " [0.        ]] \n",
      "\n",
      "\n",
      "Seattle \n",
      " [[0.0349076 ]\n",
      " [0.67556468]\n",
      " [0.25051335]\n",
      " [0.03696099]\n",
      " [0.00205339]] \n",
      "\n",
      "\n",
      "Portland \n",
      " [[0.13016529]\n",
      " [0.65909091]\n",
      " [0.17975207]\n",
      " [0.0268595 ]\n",
      " [0.00413223]] \n",
      "\n",
      "\n"
     ]
    }
   ],
   "source": [
    "# Using 1000 iteration\n",
    "\n",
    "for city in matrixDict:\n",
    "    matrix = matrixDict[city]\n",
    "    \n",
    "    initialState = np.array([[0,1,0,0,0]]).transpose()\n",
    "    prevState = initialState\n",
    "    for i in range(1):\n",
    "        nextState = np.matmul(matrix.transpose(), prevState)\n",
    "        prevState = nextState\n",
    "\n",
    "    print(city, \"\\n\", nextState, \"\\n\\n\")"
   ]
  },
  {
   "cell_type": "code",
   "execution_count": null,
   "metadata": {},
   "outputs": [],
   "source": []
  },
  {
   "cell_type": "code",
   "execution_count": 115,
   "metadata": {},
   "outputs": [
    {
     "name": "stdout",
     "output_type": "stream",
     "text": [
      "Los Angeles \n",
      " [[0.00223964]\n",
      " [0.06830907]\n",
      " [0.42441209]\n",
      " [0.50279955]\n",
      " [0.00223964]] \n",
      "\n",
      "\n",
      "San Antonio \n",
      " [[0.02134831]\n",
      " [0.26067416]\n",
      " [0.55168539]\n",
      " [0.16516854]\n",
      " [0.0011236 ]] \n",
      "\n",
      "\n",
      "Seattle \n",
      " [[0.03251151]\n",
      " [0.54566026]\n",
      " [0.34708233]\n",
      " [0.0668897 ]\n",
      " [0.00785619]] \n",
      "\n",
      "\n",
      "Portland \n",
      " [[0.14465926]\n",
      " [0.54389714]\n",
      " [0.24801934]\n",
      " [0.05446042]\n",
      " [0.00896383]] \n",
      "\n",
      "\n"
     ]
    }
   ],
   "source": [
    "# Using steady state condition\n",
    "\n",
    "for city in matrixDict:\n",
    "    matrix = matrixDict[city]\n",
    "    currMatrix = matrix.copy().transpose()\n",
    "    \n",
    "    for i in range(5):\n",
    "        currMatrix[i][i] -= 1\n",
    "    for i in range(5):\n",
    "        currMatrix[4][i] = 1\n",
    "    \n",
    "    inverseMatrix = np.linalg.inv(currMatrix)\n",
    "    \n",
    "    Y = np.array([[0,0,0,0,1]]).transpose()\n",
    "    \n",
    "    steadyState = np.matmul( inverseMatrix, Y )\n",
    "    \n",
    "    print(city, \"\\n\", steadyState, \"\\n\\n\")"
   ]
  },
  {
   "cell_type": "code",
   "execution_count": null,
   "metadata": {},
   "outputs": [],
   "source": []
  }
 ],
 "metadata": {
  "kernelspec": {
   "display_name": "Python 3",
   "language": "python",
   "name": "python3"
  },
  "language_info": {
   "codemirror_mode": {
    "name": "ipython",
    "version": 3
   },
   "file_extension": ".py",
   "mimetype": "text/x-python",
   "name": "python",
   "nbconvert_exporter": "python",
   "pygments_lexer": "ipython3",
   "version": "3.7.1"
  }
 },
 "nbformat": 4,
 "nbformat_minor": 2
}
